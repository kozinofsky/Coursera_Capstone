{
    "cells": [
        {
            "cell_type": "markdown",
            "metadata": {
                "collapsed": true
            },
            "source": "## The Battle of Neighborhoods."
        },
        {
            "cell_type": "markdown",
            "metadata": {},
            "source": "### Description of the buisness problem"
        },
        {
            "cell_type": "markdown",
            "metadata": {},
            "source": "The company X asked my team with the following task:\nThey are going to build a new restaurant of their famous chain Y in the city San Francisco, USA.\n\nThey provided me the following information:\n- it is a restaurant of Greek cuisine\n- it is in the middle price category\n\nThe company needs to know the best location for building the new restaurant based on the following requirements:\n- the location should be safe\n- the location should not have a lot of Greek restaurants (for competitive advantatage)\n- the location should be popular \n"
        },
        {
            "cell_type": "markdown",
            "metadata": {},
            "source": "## Data"
        },
        {
            "cell_type": "markdown",
            "metadata": {},
            "source": "To solve the problem, I am going to use Foursquaire API. To get the information about existing Greek restaurant and other restaurants in the San Francisco, to get their coordinates. Also I am going to use crime report to find out the safitiest neighborhood in the San Francisco. And after get all the data I will vilualize it using folium map. \nGetting all of this data will help the company X to see the best location which fit all the requirements above. And will help new restaurant to be succesfull in future."
        }
    ],
    "metadata": {
        "kernelspec": {
            "display_name": "Python 3.6",
            "language": "python",
            "name": "python3"
        },
        "language_info": {
            "codemirror_mode": {
                "name": "ipython",
                "version": 3
            },
            "file_extension": ".py",
            "mimetype": "text/x-python",
            "name": "python",
            "nbconvert_exporter": "python",
            "pygments_lexer": "ipython3",
            "version": "3.6.9"
        }
    },
    "nbformat": 4,
    "nbformat_minor": 1
}