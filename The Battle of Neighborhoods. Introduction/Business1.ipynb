{
    "cells": [
        {
            "cell_type": "markdown",
            "metadata": {
                "collapsed": true
            },
            "source": "## The Battle of Neighborhoods."
        },
        {
            "cell_type": "markdown",
            "metadata": {},
            "source": "### Description of the buisness problem"
        },
        {
            "cell_type": "markdown",
            "metadata": {},
            "source": "The company X asked my team with the following task:\nThey are going to build a new restaurant of their famous chain Y in the city San Francisco, USA.\n\nThey provided me the following information:\n- it is a restaurant of Greek cuisine\n- it is in the middle price category\n\nThe company needs to know the best location for building the new restaurant based on the following requirements:\n- the location should be safe\n- the location should not have a lot of Greek restaurants (for competitive advantatage)\n- the location should be popular \n"
        }
    ],
    "metadata": {
        "kernelspec": {
            "display_name": "Python 3.6",
            "language": "python",
            "name": "python3"
        },
        "language_info": {
            "codemirror_mode": {
                "name": "ipython",
                "version": 3
            },
            "file_extension": ".py",
            "mimetype": "text/x-python",
            "name": "python",
            "nbconvert_exporter": "python",
            "pygments_lexer": "ipython3",
            "version": "3.6.9"
        }
    },
    "nbformat": 4,
    "nbformat_minor": 1
}