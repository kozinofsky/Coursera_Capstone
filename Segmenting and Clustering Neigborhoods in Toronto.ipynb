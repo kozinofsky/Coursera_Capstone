{
    "cells": [
        {
            "cell_type": "code",
            "execution_count": 1,
            "metadata": {},
            "outputs": [
                {
                    "ename": "SyntaxError",
                    "evalue": "invalid syntax (<ipython-input-1-ccc44d0d10b3>, line 16)",
                    "output_type": "error",
                    "traceback": [
                        "\u001b[0;36m  File \u001b[0;32m\"<ipython-input-1-ccc44d0d10b3>\"\u001b[0;36m, line \u001b[0;32m16\u001b[0m\n\u001b[0;31m    for i, td in enumerate(row)    # each row contains several <td> tags which I am looking for\u001b[0m\n\u001b[0m                                                                                               ^\u001b[0m\n\u001b[0;31mSyntaxError\u001b[0m\u001b[0;31m:\u001b[0m invalid syntax\n"
                    ]
                }
            ],
            "source": "from bs4 import BeautifulSoup\nimport requests\nimport pandas as pd\nimport numpy as np\n\nsource = requests.get('https://en.wikipedia.org/wiki/List_of_postal_codes_of_Canada:_M').text\n\nsoup = BeautifulSoup(source, 'lxml')\n\nmylist = [] #create empty list which I will transform to DataFrame\n\narticle = soup.find('table')\n#print(article.prettify()) # data from wikipedia in html format\n\nfor row in article.find_all('tr'): # looking for tag <tr> it is one row in the table\n    for i, td in enumerate(row)    # each row contains several <td> tags which I am looking for\n        td = str(td)               # need to drop unnecessary symbols\n        td = td.replace('<td>', '')\n        td = td.replace('</td>', '')\n        td = td.replace('<th>', '') # first row contains <th> tag, not a <td>\n        td = td.replace('</th>', '')\n        td = td.replace('\\n', '')\n        td = td.replace('/', ',')   # several neighborhoods should be separated by a comma\n        if i==1: postal_code = td # row contains 6 elements (if we will print it), second one (i=1) contains PostalCode\n        if i==3: borough = td     # fourth (i=3) contains Borough\n        if i==5: \n            neighborhood = td\n            mylist.append([postal_code, borough, neighborhood]) # fill mylist list with data from wiki table \ncolumn_names = ['PostalCode', 'Borough', 'Neighborhood'] # columns for our dataFrame\ndf = pd.DataFrame(mylist, columns=column_names) # create DataFrame from mylist\ndf.drop(0, axis=0, inplace=True) # first row (index=0) contains the same information as our columns, delete it\ndf # show the result dataframe\n\n"
        },
        {
            "cell_type": "code",
            "execution_count": null,
            "metadata": {},
            "outputs": [],
            "source": ""
        }
    ],
    "metadata": {
        "kernelspec": {
            "display_name": "Python 3.6",
            "language": "python",
            "name": "python3"
        },
        "language_info": {
            "codemirror_mode": {
                "name": "ipython",
                "version": 3
            },
            "file_extension": ".py",
            "mimetype": "text/x-python",
            "name": "python",
            "nbconvert_exporter": "python",
            "pygments_lexer": "ipython3",
            "version": "3.6.9"
        }
    },
    "nbformat": 4,
    "nbformat_minor": 1
}